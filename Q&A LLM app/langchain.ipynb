{
 "cells": [
  {
   "cell_type": "code",
   "execution_count": 26,
   "metadata": {},
   "outputs": [
    {
     "name": "stdout",
     "output_type": "stream",
     "text": [
      "Collecting huggingface_hub\n",
      "  Downloading huggingface_hub-0.22.2-py3-none-any.whl.metadata (12 kB)\n",
      "Requirement already satisfied: filelock in c:\\users\\lenovo\\anaconda3\\lib\\site-packages (from huggingface_hub) (3.13.1)\n",
      "Requirement already satisfied: fsspec>=2023.5.0 in c:\\users\\lenovo\\anaconda3\\lib\\site-packages (from huggingface_hub) (2023.10.0)\n",
      "Requirement already satisfied: packaging>=20.9 in c:\\users\\lenovo\\anaconda3\\lib\\site-packages (from huggingface_hub) (23.2)\n",
      "Requirement already satisfied: pyyaml>=5.1 in c:\\users\\lenovo\\anaconda3\\lib\\site-packages (from huggingface_hub) (6.0.1)\n",
      "Requirement already satisfied: requests in c:\\users\\lenovo\\anaconda3\\lib\\site-packages (from huggingface_hub) (2.31.0)\n",
      "Requirement already satisfied: tqdm>=4.42.1 in c:\\users\\lenovo\\anaconda3\\lib\\site-packages (from huggingface_hub) (4.65.0)\n",
      "Requirement already satisfied: typing-extensions>=3.7.4.3 in c:\\users\\lenovo\\anaconda3\\lib\\site-packages (from huggingface_hub) (4.9.0)\n",
      "Requirement already satisfied: colorama in c:\\users\\lenovo\\anaconda3\\lib\\site-packages (from tqdm>=4.42.1->huggingface_hub) (0.4.6)\n",
      "Requirement already satisfied: charset-normalizer<4,>=2 in c:\\users\\lenovo\\anaconda3\\lib\\site-packages (from requests->huggingface_hub) (2.0.4)\n",
      "Requirement already satisfied: idna<4,>=2.5 in c:\\users\\lenovo\\anaconda3\\lib\\site-packages (from requests->huggingface_hub) (3.4)\n",
      "Requirement already satisfied: urllib3<3,>=1.21.1 in c:\\users\\lenovo\\anaconda3\\lib\\site-packages (from requests->huggingface_hub) (2.0.7)\n",
      "Requirement already satisfied: certifi>=2017.4.17 in c:\\users\\lenovo\\anaconda3\\lib\\site-packages (from requests->huggingface_hub) (2024.2.2)\n",
      "Downloading huggingface_hub-0.22.2-py3-none-any.whl (388 kB)\n",
      "   ---------------------------------------- 0.0/388.9 kB ? eta -:--:--\n",
      "   - -------------------------------------- 10.2/388.9 kB ? eta -:--:--\n",
      "   --------- ------------------------------ 92.2/388.9 kB 1.1 MB/s eta 0:00:01\n",
      "   ------------------ --------------------- 184.3/388.9 kB 1.4 MB/s eta 0:00:01\n",
      "   -------------------------------------- - 378.9/388.9 kB 2.4 MB/s eta 0:00:01\n",
      "   ---------------------------------------- 388.9/388.9 kB 2.0 MB/s eta 0:00:00\n",
      "Installing collected packages: huggingface_hub\n",
      "Successfully installed huggingface_hub-0.22.2\n"
     ]
    }
   ],
   "source": [
    "#pip install langchain\n",
    "#!pip install openai\n",
    "#!pip install huggingface_hub"
   ]
  },
  {
   "cell_type": "markdown",
   "metadata": {},
   "source": [
    "#### Importing Libraries"
   ]
  },
  {
   "cell_type": "code",
   "execution_count": 71,
   "metadata": {},
   "outputs": [],
   "source": [
    "import os\n",
    "import dotenv\n",
    "from dotenv import dotenv_values\n",
    "secrets=dotenv_values(\".env\")\n",
    "#os.environ[\"OPENAI_API_KEY\"]=\"sk-\""
   ]
  },
  {
   "cell_type": "code",
   "execution_count": 72,
   "metadata": {},
   "outputs": [],
   "source": [
    "from langchain.llms import OpenAI"
   ]
  },
  {
   "cell_type": "code",
   "execution_count": 78,
   "metadata": {},
   "outputs": [
    {
     "name": "stdout",
     "output_type": "stream",
     "text": [
      "OrderedDict([('OPENAI_API_KEY', 'sk-'), ('HUGGINGFACEHUB_API_TOKEN', 'hf_')])\n"
     ]
    }
   ],
   "source": [
    "print(secrets)"
   ]
  },
  {
   "cell_type": "markdown",
   "metadata": {},
   "source": [
    "#### Testing Open AI and Hugging Face"
   ]
  },
  {
   "cell_type": "code",
   "execution_count": 77,
   "metadata": {},
   "outputs": [],
   "source": [
    "llm=OpenAI(openai_api_key=secrets[\"OPENAI_API_KEY\"],temperature=0.6)"
   ]
  },
  {
   "cell_type": "code",
   "execution_count": 25,
   "metadata": {},
   "outputs": [
    {
     "name": "stdout",
     "output_type": "stream",
     "text": [
      "\n",
      "\n",
      "The capital of UAE is Abu Dhabi.\n"
     ]
    }
   ],
   "source": [
    "text=\"what is the capital of UAE\"\n",
    "print(llm.predict(text))"
   ]
  },
  {
   "cell_type": "code",
   "execution_count": 36,
   "metadata": {},
   "outputs": [],
   "source": [
    "#os.environ[\"HUGGINGFACEHUB_API_TOKEN\"]=\"hf_""
   ]
  },
  {
   "cell_type": "code",
   "execution_count": 79,
   "metadata": {},
   "outputs": [],
   "source": [
    "from langchain import HuggingFaceHub"
   ]
  },
  {
   "cell_type": "code",
   "execution_count": 39,
   "metadata": {},
   "outputs": [],
   "source": [
    "llmhuggingface=HuggingFaceHub(repo_id=\"google/flan-t5-large\",model_kwargs={\"temperature\":0.6,\"max_length\":64})"
   ]
  },
  {
   "cell_type": "code",
   "execution_count": 42,
   "metadata": {},
   "outputs": [
    {
     "name": "stdout",
     "output_type": "stream",
     "text": [
      "nature is a beautiful thing\n"
     ]
    }
   ],
   "source": [
    "output=llmhuggingface.predict(\"can you write a poem on nature\")\n",
    "print(output)"
   ]
  },
  {
   "cell_type": "code",
   "execution_count": 43,
   "metadata": {},
   "outputs": [
    {
     "data": {
      "text/plain": [
       "'\\n\\nNature, oh nature, so vast and so grand\\nA world of wonder, a magical land\\nFrom towering mountains to the depths of the sea\\nEvery corner holds a beauty to see\\n\\nThe sun rises high, painting the sky\\nIn shades of orange, pink, and gold, it flies\\nThe birds sing their songs, a melody so sweet\\nAs they dance among the trees, their tiny feet\\n\\nThe trees, oh how they stand so tall\\nTheir leaves rustle, a gentle call\\nWhispering secrets to the passing breeze\\nAs it carries their tales to distant seas\\n\\nThe rivers flow, a constant motion\\nReflecting the sky with such devotion\\nThey carve their way through rugged terrain\\nBringing life to the valleys, fields, and plains\\n\\nThe flowers bloom, a colorful array\\nTheir petals delicate, in the sun they play\\nButterflies and bees, they dance around\\nSpreading joy and love, with every sound\\n\\nThe animals roam, in their natural home\\nFrom the mighty lion to the tiny gnome\\nEach one unique, with a role to play\\nIn this symphony of life, every single day\\n\\nNature, oh nature, a masterpiece divine\\nA treasure trove, for those who seek to find\\nPeace'"
      ]
     },
     "execution_count": 43,
     "metadata": {},
     "output_type": "execute_result"
    }
   ],
   "source": [
    "llm.predict(\"can you write a poem on nature\")"
   ]
  },
  {
   "cell_type": "markdown",
   "metadata": {},
   "source": [
    "#### Prompt Templates"
   ]
  },
  {
   "cell_type": "code",
   "execution_count": 46,
   "metadata": {},
   "outputs": [
    {
     "data": {
      "text/plain": [
       "'Tell me the capital of India'"
      ]
     },
     "execution_count": 46,
     "metadata": {},
     "output_type": "execute_result"
    }
   ],
   "source": [
    "from langchain.prompts import PromptTemplate\n",
    "prompt_template=PromptTemplate(input_variables=[\"country\"], template=\"Tell me the capital of {country}\")\n",
    "prompt_template.format(country='India')"
   ]
  },
  {
   "cell_type": "code",
   "execution_count": 50,
   "metadata": {},
   "outputs": [
    {
     "name": "stdout",
     "output_type": "stream",
     "text": [
      "\n",
      "\n",
      "The capital of India is New Delhi.\n"
     ]
    }
   ],
   "source": [
    "from langchain.chains import LLMChain\n",
    "chain=LLMChain(llm=llm,prompt=prompt_template)\n",
    "print(chain.run('India'))"
   ]
  },
  {
   "cell_type": "markdown",
   "metadata": {},
   "source": [
    "### Combining Multiple Chain using Simple Sequential chain"
   ]
  },
  {
   "cell_type": "code",
   "execution_count": 53,
   "metadata": {},
   "outputs": [
    {
     "name": "stdout",
     "output_type": "stream",
     "text": [
      " Here are some places you can visit in and around New Delhi:\n",
      "\n",
      "1. Red Fort - This magnificent fort was the residence of the Mughal emperors for nearly 200 years and is now a UNESCO World Heritage Site.\n",
      "\n",
      "2. Qutub Minar - This 73-meter tall minaret is the tallest brick minaret in the world and is a must-visit for its beautiful architecture and historical significance.\n",
      "\n",
      "3. India Gate - This iconic war memorial is a popular spot for picnics and evening strolls. It also has a beautiful light and sound show every evening.\n",
      "\n",
      "4. Humayun's Tomb - This stunning tomb is the final resting place of Mughal emperor Humayun and is known for its intricate architecture and beautiful gardens.\n",
      "\n",
      "5. Lotus Temple - This unique temple is shaped like a lotus flower and is open to people of all religions for prayer and meditation.\n",
      "\n",
      "6. Akshardham Temple - This grand temple complex showcases Indian culture and spirituality through its stunning architecture, exhibitions, and musical fountain show.\n",
      "\n",
      "7. Jama Masjid - This largest mosque in India can accommodate up to 25,000 worshippers and is a popular tourist attraction for its stunning architecture and peaceful atmosphere.\n",
      "\n",
      "8. Chandni Chowk - This bustling market in\n"
     ]
    }
   ],
   "source": [
    "from langchain.chains import SimpleSequentialChain\n",
    "\n",
    "capital_template=PromptTemplate(input_variables=[\"country\"], template=\"Tell me the capital of {country}\")\n",
    "capital_chain=LLMChain(llm=llm,prompt=capital_template)\n",
    "\n",
    "famous_template=PromptTemplate(input_variables=['capital'], template=\"suggest me some places to visit in {capital}\")\n",
    "famous_chain=LLMChain(llm=llm, prompt=famous_template)\n",
    "\n",
    "chain=SimpleSequentialChain(chains=[capital_chain,famous_chain])\n",
    "print(chain.run('India'))"
   ]
  },
  {
   "cell_type": "markdown",
   "metadata": {},
   "source": [
    "#### Sequential chain"
   ]
  },
  {
   "cell_type": "code",
   "execution_count": 56,
   "metadata": {},
   "outputs": [
    {
     "name": "stderr",
     "output_type": "stream",
     "text": [
      "c:\\Users\\LENOVO\\anaconda3\\Lib\\site-packages\\langchain_core\\_api\\deprecation.py:119: LangChainDeprecationWarning: The method `Chain.__call__` was deprecated in langchain 0.1.0 and will be removed in 0.2.0. Use invoke instead.\n",
      "  warn_deprecated(\n"
     ]
    },
    {
     "name": "stdout",
     "output_type": "stream",
     "text": [
      "{'country': 'India', 'capital': '\\n\\nThe capital of India is New Delhi.', 'places': \" Some must-visit places in New Delhi are:\\n\\n1. Red Fort - A historical fort built in the 17th century, known for its beautiful architecture and light and sound show.\\n\\n2. Qutub Minar - The tallest brick minaret in the world, built in the 12th century and declared a UNESCO World Heritage Site.\\n\\n3. India Gate - A war memorial dedicated to the soldiers who lost their lives in World War I, situated in the heart of the city.\\n\\n4. Jama Masjid - One of the largest mosques in India, built in the 17th century by Mughal emperor Shah Jahan.\\n\\n5. Humayun's Tomb - A magnificent tomb built in the 16th century, considered as the precursor to the Taj Mahal.\\n\\n6. Lotus Temple - A beautiful Bahá'í House of Worship known for its lotus-shaped architecture and serene atmosphere.\\n\\n7. Chandni Chowk - One of the oldest and busiest markets in Delhi, famous for its street food, shopping, and cultural experiences.\\n\\n8. Rashtrapati Bhavan - The official residence of the President of India, with a grand architecture and beautiful gardens.\\n\\n9. Akshardham Temple - A stunning temple complex dedicated to Swaminarayan, known\"}\n"
     ]
    }
   ],
   "source": [
    "from langchain.chains import SequentialChain\n",
    "\n",
    "capital_template=PromptTemplate(input_variables=[\"country\"], template=\"Tell me the capital of {country}\")\n",
    "capital_chain=LLMChain(llm=llm,prompt=capital_template,output_key='capital')\n",
    "\n",
    "famous_template=PromptTemplate(input_variables=['capital'], template=\"suggest me some places to visit in {capital}\")\n",
    "famous_chain=LLMChain(llm=llm, prompt=famous_template,output_key='places')\n",
    "\n",
    "chain=SequentialChain(chains=[capital_chain,famous_chain],input_variables=['country'],output_variables=['capital','places'])\n",
    "print(chain({'country':'India'}))"
   ]
  },
  {
   "cell_type": "markdown",
   "metadata": {},
   "source": [
    "### ChatModels with OpenAI"
   ]
  },
  {
   "cell_type": "code",
   "execution_count": 59,
   "metadata": {},
   "outputs": [
    {
     "name": "stderr",
     "output_type": "stream",
     "text": [
      "c:\\Users\\LENOVO\\anaconda3\\Lib\\site-packages\\langchain_core\\_api\\deprecation.py:119: LangChainDeprecationWarning: The class `ChatOpenAI` was deprecated in LangChain 0.0.10 and will be removed in 0.2.0. An updated version of the class exists in the langchain-openai package and should be used instead. To use it run `pip install -U langchain-openai` and import as `from langchain_openai import ChatOpenAI`.\n",
      "  warn_deprecated(\n"
     ]
    }
   ],
   "source": [
    "from langchain.chat_models import ChatOpenAI\n",
    "from langchain.schema import SystemMessage,HumanMessage,AIMessage\n",
    "chatllm=ChatOpenAI(openai_api_key=os.environ['OPENAI_API_KEY'],temperature=0.6, model='gpt-3.5-turbo')\n",
    "\n"
   ]
  },
  {
   "cell_type": "code",
   "execution_count": 60,
   "metadata": {},
   "outputs": [
    {
     "name": "stderr",
     "output_type": "stream",
     "text": [
      "c:\\Users\\LENOVO\\anaconda3\\Lib\\site-packages\\langchain_core\\_api\\deprecation.py:119: LangChainDeprecationWarning: The method `BaseChatModel.__call__` was deprecated in langchain-core 0.1.7 and will be removed in 0.2.0. Use invoke instead.\n",
      "  warn_deprecated(\n"
     ]
    },
    {
     "data": {
      "text/plain": [
       "AIMessage(content='1. \"Why did the AI break up with the computer? It couldn\\'t handle its emotional baggage!\"\\n2. \"I asked my AI assistant to tell me a joke, and it replied, \\'I\\'m sorry, I\\'m programmed for serious business only.\\'\"\\n3. \"If AI ever starts a stand-up comedy show, I hope it doesn\\'t crash and burn!\"\\n4. \"Why did the AI cross the road? To optimize its route and minimize traffic congestion!\"\\n5. \"I tried to teach my AI some humor, but all it came up with was binary jokes – you either laugh or you don\\'t!\"', response_metadata={'token_usage': {'completion_tokens': 125, 'prompt_tokens': 25, 'total_tokens': 150}, 'model_name': 'gpt-3.5-turbo', 'system_fingerprint': 'fp_3b956da36b', 'finish_reason': 'stop', 'logprobs': None}, id='run-115290c4-39d1-44fe-a8e6-4dcd007d1ba5-0')"
      ]
     },
     "execution_count": 60,
     "metadata": {},
     "output_type": "execute_result"
    }
   ],
   "source": [
    "chatllm([SystemMessage(content=\"You are a comedian AI assitant\"),\n",
    "         HumanMessage(content=\"Please provide comedy punchlines on AI\")])"
   ]
  },
  {
   "cell_type": "code",
   "execution_count": 61,
   "metadata": {},
   "outputs": [],
   "source": [
    "from langchain.prompts.chat import ChatPromptTemplate\n",
    "from langchain.schema import BaseOutputParser\n",
    "\n"
   ]
  },
  {
   "cell_type": "code",
   "execution_count": 62,
   "metadata": {},
   "outputs": [],
   "source": [
    "class Commaseperatedoutput(BaseOutputParser):\n",
    "    def parse(self,text:str):\n",
    "        return text.strip().split(',')\n"
   ]
  },
  {
   "cell_type": "code",
   "execution_count": 67,
   "metadata": {},
   "outputs": [],
   "source": [
    "template=\"You are a helpful assisstant. when user give you a input, you should provide the 5 synonyms for the input word\"\n",
    "human_template=\"{text}\"\n",
    "\n",
    "chat_prompt=ChatPromptTemplate.from_messages([(\"system\",template),(\"human\",human_template)])"
   ]
  },
  {
   "cell_type": "code",
   "execution_count": 68,
   "metadata": {},
   "outputs": [],
   "source": [
    "chain=chat_prompt|chatllm|Commaseperatedoutput()"
   ]
  },
  {
   "cell_type": "code",
   "execution_count": 70,
   "metadata": {},
   "outputs": [
    {
     "data": {
      "text/plain": [
       "['1. Smart\\n2. Clever\\n3. Bright\\n4. Astute\\n5. Sharp']"
      ]
     },
     "execution_count": 70,
     "metadata": {},
     "output_type": "execute_result"
    }
   ],
   "source": [
    "chain.invoke({\"text\":\"intelligent\"})"
   ]
  },
  {
   "cell_type": "code",
   "execution_count": null,
   "metadata": {},
   "outputs": [],
   "source": []
  }
 ],
 "metadata": {
  "kernelspec": {
   "display_name": "base",
   "language": "python",
   "name": "python3"
  },
  "language_info": {
   "codemirror_mode": {
    "name": "ipython",
    "version": 3
   },
   "file_extension": ".py",
   "mimetype": "text/x-python",
   "name": "python",
   "nbconvert_exporter": "python",
   "pygments_lexer": "ipython3",
   "version": "3.11.7"
  }
 },
 "nbformat": 4,
 "nbformat_minor": 2
}
